{
  "nbformat": 4,
  "nbformat_minor": 0,
  "metadata": {
    "colab": {
      "provenance": [],
      "include_colab_link": true
    },
    "kernelspec": {
      "name": "python3",
      "display_name": "Python 3"
    },
    "language_info": {
      "name": "python"
    }
  },
  "cells": [
    {
      "cell_type": "markdown",
      "metadata": {
        "id": "view-in-github",
        "colab_type": "text"
      },
      "source": [
        "<a href=\"https://colab.research.google.com/github/eudyzerpa/Asterisk/blob/main/18_Analisis_de_Componentes_Principales.ipynb\" target=\"_parent\"><img src=\"https://colab.research.google.com/assets/colab-badge.svg\" alt=\"Open In Colab\"/></a>"
      ]
    },
    {
      "cell_type": "markdown",
      "source": [
        "# Análisis de Componentes Principales (PCA)\n",
        "\n",
        "En este notebook práctico veremos el cómo se implementa y utiliza el Análisis de Componentes Principales (PCA) como método de reducción de la dimensionalidad, y su aplicación en un ejercicio de clasificación ya conocido. Para ello, llevaremos a cabo la reducción de dimensiones del **UCI Wine Dataset** y aplicaremos un modelo de clasificación sobre este resultado."
      ],
      "metadata": {
        "id": "tb-zZQBMAity"
      }
    },
    {
      "cell_type": "code",
      "source": [
        "# Imports\n",
        "import numpy as np\n",
        "import pandas as pd\n",
        "import matplotlib.pyplot as plt\n",
        "from sklearn import metrics\n",
        "from sklearn.preprocessing import StandardScaler\n",
        "from sklearn.model_selection import train_test_split\n",
        "from sklearn.ensemble import RandomForestClassifier\n",
        "from sklearn.decomposition import PCA, KernelPCA\n",
        "import math"
      ],
      "metadata": {
        "id": "U2P5az-cAlzX"
      },
      "execution_count": null,
      "outputs": []
    },
    {
      "cell_type": "code",
      "source": [
        "# Descarga del dataset\n",
        "dataset = pd.read_csv('https://gist.githubusercontent.com/tijptjik/9408623/raw/b237fa5848349a14a14e5d4107dc7897c21951f5/wine.csv')\n",
        "dataset"
      ],
      "metadata": {
        "colab": {
          "base_uri": "https://localhost:8080/",
          "height": 488
        },
        "id": "WT-hW-RLBROt",
        "outputId": "6d08eee4-8bc5-4f4b-b2bd-a601ccb298e9"
      },
      "execution_count": null,
      "outputs": [
        {
          "output_type": "execute_result",
          "data": {
            "text/plain": [
              "     Wine  Alcohol  Malic.acid   Ash   Acl   Mg  Phenols  Flavanoids  \\\n",
              "0       1    14.23        1.71  2.43  15.6  127     2.80        3.06   \n",
              "1       1    13.20        1.78  2.14  11.2  100     2.65        2.76   \n",
              "2       1    13.16        2.36  2.67  18.6  101     2.80        3.24   \n",
              "3       1    14.37        1.95  2.50  16.8  113     3.85        3.49   \n",
              "4       1    13.24        2.59  2.87  21.0  118     2.80        2.69   \n",
              "..    ...      ...         ...   ...   ...  ...      ...         ...   \n",
              "173     3    13.71        5.65  2.45  20.5   95     1.68        0.61   \n",
              "174     3    13.40        3.91  2.48  23.0  102     1.80        0.75   \n",
              "175     3    13.27        4.28  2.26  20.0  120     1.59        0.69   \n",
              "176     3    13.17        2.59  2.37  20.0  120     1.65        0.68   \n",
              "177     3    14.13        4.10  2.74  24.5   96     2.05        0.76   \n",
              "\n",
              "     Nonflavanoid.phenols  Proanth  Color.int   Hue    OD  Proline  \n",
              "0                    0.28     2.29       5.64  1.04  3.92     1065  \n",
              "1                    0.26     1.28       4.38  1.05  3.40     1050  \n",
              "2                    0.30     2.81       5.68  1.03  3.17     1185  \n",
              "3                    0.24     2.18       7.80  0.86  3.45     1480  \n",
              "4                    0.39     1.82       4.32  1.04  2.93      735  \n",
              "..                    ...      ...        ...   ...   ...      ...  \n",
              "173                  0.52     1.06       7.70  0.64  1.74      740  \n",
              "174                  0.43     1.41       7.30  0.70  1.56      750  \n",
              "175                  0.43     1.35      10.20  0.59  1.56      835  \n",
              "176                  0.53     1.46       9.30  0.60  1.62      840  \n",
              "177                  0.56     1.35       9.20  0.61  1.60      560  \n",
              "\n",
              "[178 rows x 14 columns]"
            ],
            "text/html": [
              "\n",
              "  <div id=\"df-92bd34cb-4d4f-4353-bd04-ae314df2382d\">\n",
              "    <div class=\"colab-df-container\">\n",
              "      <div>\n",
              "<style scoped>\n",
              "    .dataframe tbody tr th:only-of-type {\n",
              "        vertical-align: middle;\n",
              "    }\n",
              "\n",
              "    .dataframe tbody tr th {\n",
              "        vertical-align: top;\n",
              "    }\n",
              "\n",
              "    .dataframe thead th {\n",
              "        text-align: right;\n",
              "    }\n",
              "</style>\n",
              "<table border=\"1\" class=\"dataframe\">\n",
              "  <thead>\n",
              "    <tr style=\"text-align: right;\">\n",
              "      <th></th>\n",
              "      <th>Wine</th>\n",
              "      <th>Alcohol</th>\n",
              "      <th>Malic.acid</th>\n",
              "      <th>Ash</th>\n",
              "      <th>Acl</th>\n",
              "      <th>Mg</th>\n",
              "      <th>Phenols</th>\n",
              "      <th>Flavanoids</th>\n",
              "      <th>Nonflavanoid.phenols</th>\n",
              "      <th>Proanth</th>\n",
              "      <th>Color.int</th>\n",
              "      <th>Hue</th>\n",
              "      <th>OD</th>\n",
              "      <th>Proline</th>\n",
              "    </tr>\n",
              "  </thead>\n",
              "  <tbody>\n",
              "    <tr>\n",
              "      <th>0</th>\n",
              "      <td>1</td>\n",
              "      <td>14.23</td>\n",
              "      <td>1.71</td>\n",
              "      <td>2.43</td>\n",
              "      <td>15.6</td>\n",
              "      <td>127</td>\n",
              "      <td>2.80</td>\n",
              "      <td>3.06</td>\n",
              "      <td>0.28</td>\n",
              "      <td>2.29</td>\n",
              "      <td>5.64</td>\n",
              "      <td>1.04</td>\n",
              "      <td>3.92</td>\n",
              "      <td>1065</td>\n",
              "    </tr>\n",
              "    <tr>\n",
              "      <th>1</th>\n",
              "      <td>1</td>\n",
              "      <td>13.20</td>\n",
              "      <td>1.78</td>\n",
              "      <td>2.14</td>\n",
              "      <td>11.2</td>\n",
              "      <td>100</td>\n",
              "      <td>2.65</td>\n",
              "      <td>2.76</td>\n",
              "      <td>0.26</td>\n",
              "      <td>1.28</td>\n",
              "      <td>4.38</td>\n",
              "      <td>1.05</td>\n",
              "      <td>3.40</td>\n",
              "      <td>1050</td>\n",
              "    </tr>\n",
              "    <tr>\n",
              "      <th>2</th>\n",
              "      <td>1</td>\n",
              "      <td>13.16</td>\n",
              "      <td>2.36</td>\n",
              "      <td>2.67</td>\n",
              "      <td>18.6</td>\n",
              "      <td>101</td>\n",
              "      <td>2.80</td>\n",
              "      <td>3.24</td>\n",
              "      <td>0.30</td>\n",
              "      <td>2.81</td>\n",
              "      <td>5.68</td>\n",
              "      <td>1.03</td>\n",
              "      <td>3.17</td>\n",
              "      <td>1185</td>\n",
              "    </tr>\n",
              "    <tr>\n",
              "      <th>3</th>\n",
              "      <td>1</td>\n",
              "      <td>14.37</td>\n",
              "      <td>1.95</td>\n",
              "      <td>2.50</td>\n",
              "      <td>16.8</td>\n",
              "      <td>113</td>\n",
              "      <td>3.85</td>\n",
              "      <td>3.49</td>\n",
              "      <td>0.24</td>\n",
              "      <td>2.18</td>\n",
              "      <td>7.80</td>\n",
              "      <td>0.86</td>\n",
              "      <td>3.45</td>\n",
              "      <td>1480</td>\n",
              "    </tr>\n",
              "    <tr>\n",
              "      <th>4</th>\n",
              "      <td>1</td>\n",
              "      <td>13.24</td>\n",
              "      <td>2.59</td>\n",
              "      <td>2.87</td>\n",
              "      <td>21.0</td>\n",
              "      <td>118</td>\n",
              "      <td>2.80</td>\n",
              "      <td>2.69</td>\n",
              "      <td>0.39</td>\n",
              "      <td>1.82</td>\n",
              "      <td>4.32</td>\n",
              "      <td>1.04</td>\n",
              "      <td>2.93</td>\n",
              "      <td>735</td>\n",
              "    </tr>\n",
              "    <tr>\n",
              "      <th>...</th>\n",
              "      <td>...</td>\n",
              "      <td>...</td>\n",
              "      <td>...</td>\n",
              "      <td>...</td>\n",
              "      <td>...</td>\n",
              "      <td>...</td>\n",
              "      <td>...</td>\n",
              "      <td>...</td>\n",
              "      <td>...</td>\n",
              "      <td>...</td>\n",
              "      <td>...</td>\n",
              "      <td>...</td>\n",
              "      <td>...</td>\n",
              "      <td>...</td>\n",
              "    </tr>\n",
              "    <tr>\n",
              "      <th>173</th>\n",
              "      <td>3</td>\n",
              "      <td>13.71</td>\n",
              "      <td>5.65</td>\n",
              "      <td>2.45</td>\n",
              "      <td>20.5</td>\n",
              "      <td>95</td>\n",
              "      <td>1.68</td>\n",
              "      <td>0.61</td>\n",
              "      <td>0.52</td>\n",
              "      <td>1.06</td>\n",
              "      <td>7.70</td>\n",
              "      <td>0.64</td>\n",
              "      <td>1.74</td>\n",
              "      <td>740</td>\n",
              "    </tr>\n",
              "    <tr>\n",
              "      <th>174</th>\n",
              "      <td>3</td>\n",
              "      <td>13.40</td>\n",
              "      <td>3.91</td>\n",
              "      <td>2.48</td>\n",
              "      <td>23.0</td>\n",
              "      <td>102</td>\n",
              "      <td>1.80</td>\n",
              "      <td>0.75</td>\n",
              "      <td>0.43</td>\n",
              "      <td>1.41</td>\n",
              "      <td>7.30</td>\n",
              "      <td>0.70</td>\n",
              "      <td>1.56</td>\n",
              "      <td>750</td>\n",
              "    </tr>\n",
              "    <tr>\n",
              "      <th>175</th>\n",
              "      <td>3</td>\n",
              "      <td>13.27</td>\n",
              "      <td>4.28</td>\n",
              "      <td>2.26</td>\n",
              "      <td>20.0</td>\n",
              "      <td>120</td>\n",
              "      <td>1.59</td>\n",
              "      <td>0.69</td>\n",
              "      <td>0.43</td>\n",
              "      <td>1.35</td>\n",
              "      <td>10.20</td>\n",
              "      <td>0.59</td>\n",
              "      <td>1.56</td>\n",
              "      <td>835</td>\n",
              "    </tr>\n",
              "    <tr>\n",
              "      <th>176</th>\n",
              "      <td>3</td>\n",
              "      <td>13.17</td>\n",
              "      <td>2.59</td>\n",
              "      <td>2.37</td>\n",
              "      <td>20.0</td>\n",
              "      <td>120</td>\n",
              "      <td>1.65</td>\n",
              "      <td>0.68</td>\n",
              "      <td>0.53</td>\n",
              "      <td>1.46</td>\n",
              "      <td>9.30</td>\n",
              "      <td>0.60</td>\n",
              "      <td>1.62</td>\n",
              "      <td>840</td>\n",
              "    </tr>\n",
              "    <tr>\n",
              "      <th>177</th>\n",
              "      <td>3</td>\n",
              "      <td>14.13</td>\n",
              "      <td>4.10</td>\n",
              "      <td>2.74</td>\n",
              "      <td>24.5</td>\n",
              "      <td>96</td>\n",
              "      <td>2.05</td>\n",
              "      <td>0.76</td>\n",
              "      <td>0.56</td>\n",
              "      <td>1.35</td>\n",
              "      <td>9.20</td>\n",
              "      <td>0.61</td>\n",
              "      <td>1.60</td>\n",
              "      <td>560</td>\n",
              "    </tr>\n",
              "  </tbody>\n",
              "</table>\n",
              "<p>178 rows × 14 columns</p>\n",
              "</div>\n",
              "      <button class=\"colab-df-convert\" onclick=\"convertToInteractive('df-92bd34cb-4d4f-4353-bd04-ae314df2382d')\"\n",
              "              title=\"Convert this dataframe to an interactive table.\"\n",
              "              style=\"display:none;\">\n",
              "        \n",
              "  <svg xmlns=\"http://www.w3.org/2000/svg\" height=\"24px\"viewBox=\"0 0 24 24\"\n",
              "       width=\"24px\">\n",
              "    <path d=\"M0 0h24v24H0V0z\" fill=\"none\"/>\n",
              "    <path d=\"M18.56 5.44l.94 2.06.94-2.06 2.06-.94-2.06-.94-.94-2.06-.94 2.06-2.06.94zm-11 1L8.5 8.5l.94-2.06 2.06-.94-2.06-.94L8.5 2.5l-.94 2.06-2.06.94zm10 10l.94 2.06.94-2.06 2.06-.94-2.06-.94-.94-2.06-.94 2.06-2.06.94z\"/><path d=\"M17.41 7.96l-1.37-1.37c-.4-.4-.92-.59-1.43-.59-.52 0-1.04.2-1.43.59L10.3 9.45l-7.72 7.72c-.78.78-.78 2.05 0 2.83L4 21.41c.39.39.9.59 1.41.59.51 0 1.02-.2 1.41-.59l7.78-7.78 2.81-2.81c.8-.78.8-2.07 0-2.86zM5.41 20L4 18.59l7.72-7.72 1.47 1.35L5.41 20z\"/>\n",
              "  </svg>\n",
              "      </button>\n",
              "      \n",
              "  <style>\n",
              "    .colab-df-container {\n",
              "      display:flex;\n",
              "      flex-wrap:wrap;\n",
              "      gap: 12px;\n",
              "    }\n",
              "\n",
              "    .colab-df-convert {\n",
              "      background-color: #E8F0FE;\n",
              "      border: none;\n",
              "      border-radius: 50%;\n",
              "      cursor: pointer;\n",
              "      display: none;\n",
              "      fill: #1967D2;\n",
              "      height: 32px;\n",
              "      padding: 0 0 0 0;\n",
              "      width: 32px;\n",
              "    }\n",
              "\n",
              "    .colab-df-convert:hover {\n",
              "      background-color: #E2EBFA;\n",
              "      box-shadow: 0px 1px 2px rgba(60, 64, 67, 0.3), 0px 1px 3px 1px rgba(60, 64, 67, 0.15);\n",
              "      fill: #174EA6;\n",
              "    }\n",
              "\n",
              "    [theme=dark] .colab-df-convert {\n",
              "      background-color: #3B4455;\n",
              "      fill: #D2E3FC;\n",
              "    }\n",
              "\n",
              "    [theme=dark] .colab-df-convert:hover {\n",
              "      background-color: #434B5C;\n",
              "      box-shadow: 0px 1px 3px 1px rgba(0, 0, 0, 0.15);\n",
              "      filter: drop-shadow(0px 1px 2px rgba(0, 0, 0, 0.3));\n",
              "      fill: #FFFFFF;\n",
              "    }\n",
              "  </style>\n",
              "\n",
              "      <script>\n",
              "        const buttonEl =\n",
              "          document.querySelector('#df-92bd34cb-4d4f-4353-bd04-ae314df2382d button.colab-df-convert');\n",
              "        buttonEl.style.display =\n",
              "          google.colab.kernel.accessAllowed ? 'block' : 'none';\n",
              "\n",
              "        async function convertToInteractive(key) {\n",
              "          const element = document.querySelector('#df-92bd34cb-4d4f-4353-bd04-ae314df2382d');\n",
              "          const dataTable =\n",
              "            await google.colab.kernel.invokeFunction('convertToInteractive',\n",
              "                                                     [key], {});\n",
              "          if (!dataTable) return;\n",
              "\n",
              "          const docLinkHtml = 'Like what you see? Visit the ' +\n",
              "            '<a target=\"_blank\" href=https://colab.research.google.com/notebooks/data_table.ipynb>data table notebook</a>'\n",
              "            + ' to learn more about interactive tables.';\n",
              "          element.innerHTML = '';\n",
              "          dataTable['output_type'] = 'display_data';\n",
              "          await google.colab.output.renderOutput(dataTable, element);\n",
              "          const docLink = document.createElement('div');\n",
              "          docLink.innerHTML = docLinkHtml;\n",
              "          element.appendChild(docLink);\n",
              "        }\n",
              "      </script>\n",
              "    </div>\n",
              "  </div>\n",
              "  "
            ]
          },
          "metadata": {},
          "execution_count": 2
        }
      ]
    },
    {
      "cell_type": "markdown",
      "source": [
        "Como podemos recordar, esta dataset está compuesto por 178 registros con 14 columnas, siendo la primera de ellas el valor que deseamos predecir (problema de clasificación).\n",
        "\n",
        "En este caso, vamos a reducir las 14 columas del dataset original, a sus primeras 3 Componentes Principales. Sin embargo, antes de realizar esto, vamos a hacer el procesamiento de los datos ya conocidos:"
      ],
      "metadata": {
        "id": "NS37jtwaBdVU"
      }
    },
    {
      "cell_type": "code",
      "source": [
        "# Mezclamos el dataset\n",
        "dataset = dataset.sample(frac=1).reset_index(drop=True)\n",
        "\n",
        "# Separamos las entradas y las etiquetas del modelo\n",
        "X = dataset.iloc[:, 1:14]\n",
        "y = dataset.iloc[:, 0]\n",
        "\n",
        "# Generamos los conjuntos de entrenamiento y prueba\n",
        "X_train, X_test, y_train, y_test = train_test_split(X, y, test_size=0.30, random_state=2022)\n",
        "\n",
        "# Creamos un Standard Scaler y hacemos el fit a los datos de entrenamiento\n",
        "estandardScaler = StandardScaler().fit(X_train)\n",
        "\n",
        "# Realizamos la estandarizacion\n",
        "X_train_scaled = estandardScaler.transform(X_train)\n",
        "X_test_scaled = estandardScaler.transform(X_test)"
      ],
      "metadata": {
        "id": "7o2nqIV8BXnV"
      },
      "execution_count": null,
      "outputs": []
    },
    {
      "cell_type": "markdown",
      "source": [
        "Una vez que ya se tiene los datos separados en sus conjuntos de entrenamiento y prueba, y se rescalan los mismos, entonces vamos a hacer uso de la función *PCA()* de *Scikit-Learn* para encontrar las 3 primeras componentes principales:"
      ],
      "metadata": {
        "id": "Tx3H-1IUCaeg"
      }
    },
    {
      "cell_type": "code",
      "source": [
        "# Se defije el PCA con el numero de componentes\n",
        "pca = PCA(n_components = 3)"
      ],
      "metadata": {
        "id": "zSoAbhE6CCAT"
      },
      "execution_count": null,
      "outputs": []
    },
    {
      "cell_type": "code",
      "source": [
        "# Se ajustan los datos para calcular las componentes\n",
        "ajustarPCA = pca.fit(X_train_scaled)\n",
        "\n",
        "# Se transforman los datos\n",
        "X_train_PCA = ajustarPCA.transform(X_train_scaled)\n",
        "X_test_PCA = ajustarPCA.transform(X_test_scaled)"
      ],
      "metadata": {
        "id": "IydH8DY0C6ak"
      },
      "execution_count": null,
      "outputs": []
    },
    {
      "cell_type": "markdown",
      "source": [
        "Al aplicar el algoritmo de PCA, vamos a obtener entonces un conjunto de datos tanto de entrenamiento como de prueba, en donde las variables han sido convertidas a 3 dimensiones."
      ],
      "metadata": {
        "id": "kmOjPpkpDpFT"
      }
    },
    {
      "cell_type": "code",
      "source": [
        "# Veamos los primeros 10 registros del conjunto de datos de entrenamiento redimensionado\n",
        "X_train_PCA[0:10]"
      ],
      "metadata": {
        "colab": {
          "base_uri": "https://localhost:8080/"
        },
        "id": "QNQOFTk7DiE-",
        "outputId": "b2133d9d-3bce-44bf-e4ba-4cb696e7713f"
      },
      "execution_count": null,
      "outputs": [
        {
          "output_type": "execute_result",
          "data": {
            "text/plain": [
              "array([[ 2.58463528, -1.85113013, -0.03749323],\n",
              "       [-2.35540652,  0.48217772, -1.11193377],\n",
              "       [-0.38215665,  2.03568925, -1.61396668],\n",
              "       [-1.83286208, -2.07882848,  0.20398139],\n",
              "       [ 1.046909  , -0.34588926,  0.82818504],\n",
              "       [-1.64208432,  1.98866571,  0.56832759],\n",
              "       [ 2.00641126, -1.39271227, -0.03530416],\n",
              "       [ 0.86184066,  1.38833296,  0.66015641],\n",
              "       [ 1.01981868,  3.14203846, -0.61097268],\n",
              "       [-3.55362444, -2.01212705, -0.35523012]])"
            ]
          },
          "metadata": {},
          "execution_count": 6
        }
      ]
    },
    {
      "cell_type": "markdown",
      "source": [
        "Además, es posible obtener la proporción de varianza explicada por estas componentes principales:"
      ],
      "metadata": {
        "id": "7oRy41CqEC49"
      }
    },
    {
      "cell_type": "code",
      "source": [
        "# Proporcion de varianza\n",
        "proporcion_varianza = pca.explained_variance_ratio_\n",
        "proporcion_varianza*100"
      ],
      "metadata": {
        "colab": {
          "base_uri": "https://localhost:8080/"
        },
        "id": "RSaqbPNsDzEi",
        "outputId": "07603960-9c44-4baa-a307-c761205b8299"
      },
      "execution_count": null,
      "outputs": [
        {
          "output_type": "execute_result",
          "data": {
            "text/plain": [
              "array([35.95786336, 19.38950945, 10.74785148])"
            ]
          },
          "metadata": {},
          "execution_count": 7
        }
      ]
    },
    {
      "cell_type": "markdown",
      "source": [
        "Este resultado se interpreta como que la 1era Componente Principal explica el 36% de la variancia del conjunto de datos original, mientras que la 2da Componente y 3era Componente explica el 19% y el 11% restante respectivamente. En efecto, se observa cómo, en el nuevo espacio tridimensional de datos, la primera componente representa aquella en donde los datos proyectados ofrecen mayor varianza.\n",
        "\n",
        "Una vez que se obtienen estas componentes, entonces podemos aplicar el ejercicio de clasificación similar a lo que trabajamos en secciones pasadas. Por ejemplo, vamos a aplicar una clasificación con Bosque Aleatorios, a fin de ver su desempeño frente a este conjunto de datos cuyas dimensiones han sido reducidas:"
      ],
      "metadata": {
        "id": "H_lTz_OOEjvQ"
      }
    },
    {
      "cell_type": "code",
      "source": [
        "# Definimos un modelo de arbol de decision\n",
        "clasificadorRF = RandomForestClassifier(n_estimators=2, max_depth=4, criterion='gini', random_state=2022)\n",
        "\n",
        "# Realizamos el fit del clasificador sobre los datos de entrenamiento PCA\n",
        "clasificadorRF.fit(X_train_PCA, y_train)"
      ],
      "metadata": {
        "colab": {
          "base_uri": "https://localhost:8080/",
          "height": 74
        },
        "id": "MdhooWjKEQ-G",
        "outputId": "6f3a5268-3e72-4ccd-d421-94f750b907b8"
      },
      "execution_count": null,
      "outputs": [
        {
          "output_type": "execute_result",
          "data": {
            "text/plain": [
              "RandomForestClassifier(max_depth=4, n_estimators=2, random_state=2022)"
            ],
            "text/html": [
              "<style>#sk-container-id-1 {color: black;background-color: white;}#sk-container-id-1 pre{padding: 0;}#sk-container-id-1 div.sk-toggleable {background-color: white;}#sk-container-id-1 label.sk-toggleable__label {cursor: pointer;display: block;width: 100%;margin-bottom: 0;padding: 0.3em;box-sizing: border-box;text-align: center;}#sk-container-id-1 label.sk-toggleable__label-arrow:before {content: \"▸\";float: left;margin-right: 0.25em;color: #696969;}#sk-container-id-1 label.sk-toggleable__label-arrow:hover:before {color: black;}#sk-container-id-1 div.sk-estimator:hover label.sk-toggleable__label-arrow:before {color: black;}#sk-container-id-1 div.sk-toggleable__content {max-height: 0;max-width: 0;overflow: hidden;text-align: left;background-color: #f0f8ff;}#sk-container-id-1 div.sk-toggleable__content pre {margin: 0.2em;color: black;border-radius: 0.25em;background-color: #f0f8ff;}#sk-container-id-1 input.sk-toggleable__control:checked~div.sk-toggleable__content {max-height: 200px;max-width: 100%;overflow: auto;}#sk-container-id-1 input.sk-toggleable__control:checked~label.sk-toggleable__label-arrow:before {content: \"▾\";}#sk-container-id-1 div.sk-estimator input.sk-toggleable__control:checked~label.sk-toggleable__label {background-color: #d4ebff;}#sk-container-id-1 div.sk-label input.sk-toggleable__control:checked~label.sk-toggleable__label {background-color: #d4ebff;}#sk-container-id-1 input.sk-hidden--visually {border: 0;clip: rect(1px 1px 1px 1px);clip: rect(1px, 1px, 1px, 1px);height: 1px;margin: -1px;overflow: hidden;padding: 0;position: absolute;width: 1px;}#sk-container-id-1 div.sk-estimator {font-family: monospace;background-color: #f0f8ff;border: 1px dotted black;border-radius: 0.25em;box-sizing: border-box;margin-bottom: 0.5em;}#sk-container-id-1 div.sk-estimator:hover {background-color: #d4ebff;}#sk-container-id-1 div.sk-parallel-item::after {content: \"\";width: 100%;border-bottom: 1px solid gray;flex-grow: 1;}#sk-container-id-1 div.sk-label:hover label.sk-toggleable__label {background-color: #d4ebff;}#sk-container-id-1 div.sk-serial::before {content: \"\";position: absolute;border-left: 1px solid gray;box-sizing: border-box;top: 0;bottom: 0;left: 50%;z-index: 0;}#sk-container-id-1 div.sk-serial {display: flex;flex-direction: column;align-items: center;background-color: white;padding-right: 0.2em;padding-left: 0.2em;position: relative;}#sk-container-id-1 div.sk-item {position: relative;z-index: 1;}#sk-container-id-1 div.sk-parallel {display: flex;align-items: stretch;justify-content: center;background-color: white;position: relative;}#sk-container-id-1 div.sk-item::before, #sk-container-id-1 div.sk-parallel-item::before {content: \"\";position: absolute;border-left: 1px solid gray;box-sizing: border-box;top: 0;bottom: 0;left: 50%;z-index: -1;}#sk-container-id-1 div.sk-parallel-item {display: flex;flex-direction: column;z-index: 1;position: relative;background-color: white;}#sk-container-id-1 div.sk-parallel-item:first-child::after {align-self: flex-end;width: 50%;}#sk-container-id-1 div.sk-parallel-item:last-child::after {align-self: flex-start;width: 50%;}#sk-container-id-1 div.sk-parallel-item:only-child::after {width: 0;}#sk-container-id-1 div.sk-dashed-wrapped {border: 1px dashed gray;margin: 0 0.4em 0.5em 0.4em;box-sizing: border-box;padding-bottom: 0.4em;background-color: white;}#sk-container-id-1 div.sk-label label {font-family: monospace;font-weight: bold;display: inline-block;line-height: 1.2em;}#sk-container-id-1 div.sk-label-container {text-align: center;}#sk-container-id-1 div.sk-container {/* jupyter's `normalize.less` sets `[hidden] { display: none; }` but bootstrap.min.css set `[hidden] { display: none !important; }` so we also need the `!important` here to be able to override the default hidden behavior on the sphinx rendered scikit-learn.org. See: https://github.com/scikit-learn/scikit-learn/issues/21755 */display: inline-block !important;position: relative;}#sk-container-id-1 div.sk-text-repr-fallback {display: none;}</style><div id=\"sk-container-id-1\" class=\"sk-top-container\"><div class=\"sk-text-repr-fallback\"><pre>RandomForestClassifier(max_depth=4, n_estimators=2, random_state=2022)</pre><b>In a Jupyter environment, please rerun this cell to show the HTML representation or trust the notebook. <br />On GitHub, the HTML representation is unable to render, please try loading this page with nbviewer.org.</b></div><div class=\"sk-container\" hidden><div class=\"sk-item\"><div class=\"sk-estimator sk-toggleable\"><input class=\"sk-toggleable__control sk-hidden--visually\" id=\"sk-estimator-id-1\" type=\"checkbox\" checked><label for=\"sk-estimator-id-1\" class=\"sk-toggleable__label sk-toggleable__label-arrow\">RandomForestClassifier</label><div class=\"sk-toggleable__content\"><pre>RandomForestClassifier(max_depth=4, n_estimators=2, random_state=2022)</pre></div></div></div></div></div>"
            ]
          },
          "metadata": {},
          "execution_count": 8
        }
      ]
    },
    {
      "cell_type": "markdown",
      "source": [
        "Una vez ajustado el clasificador a los datos de entrenamiento, podemos realizar las predicciones y evaluar las métricas de desempeño:"
      ],
      "metadata": {
        "id": "MmWh7dOaFVr6"
      }
    },
    {
      "cell_type": "code",
      "source": [
        "# Prediccion con el conjunto de entrenamiento\n",
        "y_pred_train = clasificadorRF.predict(X_train_PCA)"
      ],
      "metadata": {
        "id": "ZjhQvDikFSSH"
      },
      "execution_count": null,
      "outputs": []
    },
    {
      "cell_type": "code",
      "source": [
        "# Prediccion con el conjunto de prueba\n",
        "y_pred_test = clasificadorRF.predict(X_test_PCA)"
      ],
      "metadata": {
        "id": "zkjNuhAGFa4s"
      },
      "execution_count": null,
      "outputs": []
    },
    {
      "cell_type": "code",
      "source": [
        "# Matriz de confusion de entrenamiento\n",
        "matriz_confusion_train = metrics.confusion_matrix(y_train, y_pred_train)\n",
        "\n",
        "# Definimos los labels para la grafica de la matriz de confusion\n",
        "labels = list(clasificadorRF.classes_)\n",
        "\n",
        "fig = plt.figure(figsize=(5, 4))\n",
        "ax = fig.add_subplot(111)\n",
        "cax = ax.matshow(matriz_confusion_train)\n",
        "plt.title('Matriz de Confusion - Conjunto de Entrenamiento')\n",
        "fig.colorbar(cax)\n",
        "ax.set_xticklabels([''] + labels)\n",
        "ax.set_yticklabels([''] + labels)\n",
        "plt.xlabel('Predicho')\n",
        "plt.ylabel('Verdadero')\n",
        "for (i, j), z in np.ndenumerate(matriz_confusion_train):\n",
        "    ax.text(j, i, z, ha='center', va='center', color='white', size=22)\n",
        "plt.show()"
      ],
      "metadata": {
        "colab": {
          "base_uri": "https://localhost:8080/",
          "height": 389
        },
        "id": "oKzoX5JIFdtL",
        "outputId": "b65437f2-f436-4811-9398-a3225c3d6842"
      },
      "execution_count": null,
      "outputs": [
        {
          "output_type": "stream",
          "name": "stderr",
          "text": [
            "<ipython-input-11-252fdb3de278>:12: UserWarning: FixedFormatter should only be used together with FixedLocator\n",
            "  ax.set_xticklabels([''] + labels)\n",
            "<ipython-input-11-252fdb3de278>:13: UserWarning: FixedFormatter should only be used together with FixedLocator\n",
            "  ax.set_yticklabels([''] + labels)\n"
          ]
        },
        {
          "output_type": "display_data",
          "data": {
            "text/plain": [
              "<Figure size 360x288 with 2 Axes>"
            ],
            "image/png": "[encoded data removed]"
          },
          "metadata": {
            "needs_background": "light"
          }
        }
      ]
    },
    {
      "cell_type": "code",
      "source": [
        "# Matriz de confusion de Prueba\n",
        "matriz_confusion_test = metrics.confusion_matrix(y_test, y_pred_test)\n",
        "\n",
        "# Definimos los labels para la grafica de la matriz de confusion\n",
        "labels = list(clasificadorRF.classes_)\n",
        "\n",
        "fig = plt.figure(figsize=(5, 4))\n",
        "ax = fig.add_subplot(111)\n",
        "cax = ax.matshow(matriz_confusion_test)\n",
        "plt.title('Matriz de Confusion - Conjunto de Prueba')\n",
        "fig.colorbar(cax)\n",
        "ax.set_xticklabels([''] + labels)\n",
        "ax.set_yticklabels([''] + labels)\n",
        "plt.xlabel('Predicho')\n",
        "plt.ylabel('Verdadero')\n",
        "for (i, j), z in np.ndenumerate(matriz_confusion_test):\n",
        "    ax.text(j, i, z, ha='center', va='center', color='white', size=22)\n",
        "plt.show()"
      ],
      "metadata": {
        "colab": {
          "base_uri": "https://localhost:8080/",
          "height": 389
        },
        "id": "-vgWdIOtFiB4",
        "outputId": "35c58a8c-b6ac-4291-b0ef-c58c86c59a5f"
      },
      "execution_count": null,
      "outputs": [
        {
          "output_type": "stream",
          "name": "stderr",
          "text": [
            "<ipython-input-12-5e09ae1e4f8e>:12: UserWarning: FixedFormatter should only be used together with FixedLocator\n",
            "  ax.set_xticklabels([''] + labels)\n",
            "<ipython-input-12-5e09ae1e4f8e>:13: UserWarning: FixedFormatter should only be used together with FixedLocator\n",
            "  ax.set_yticklabels([''] + labels)\n"
          ]
        },
        {
          "output_type": "display_data",
          "data": {
            "text/plain": [
              "<Figure size 360x288 with 2 Axes>"
            ],
            "image/png": "[encoded data removed]"
          },
          "metadata": {
            "needs_background": "light"
          }
        }
      ]
    },
    {
      "cell_type": "code",
      "source": [
        "# Conjunto de Entrenamiento\n",
        "# Calculemos la exactitud a partir de los datos de salida y los reales\n",
        "train_accuracy = metrics.accuracy_score(y_train, y_pred_train)\n",
        "print(f'La Exactitud de Entrenamiento es de {train_accuracy*100:0.3f} %')\n",
        "\n",
        "# Calculemos el resto de las metricas\n",
        "train_precision = metrics.precision_score(y_train, y_pred_train, average='micro')\n",
        "print(f'El valor de Precision de Entrenamiento es de {train_precision}')\n",
        "\n",
        "# El recall\n",
        "train_recall = metrics.recall_score(y_train, y_pred_train, average='micro')\n",
        "print(f'El valor del Recall de Entrenamiento es de {train_recall}')\n",
        "\n",
        "# f1-score\n",
        "train_f1 = metrics.f1_score(y_train, y_pred_train, average='micro')\n",
        "print(f'El valor de F1-Score de Entrenamiento es de {train_f1}')\n",
        "\n",
        "# AUC\n",
        "train_auc = metrics.roc_auc_score(y_train, clasificadorRF.predict_proba(X_train_PCA), average='macro', multi_class='ovr')\n",
        "print(f'El valor del AUC de Entrenamiento es de {train_auc}')"
      ],
      "metadata": {
        "colab": {
          "base_uri": "https://localhost:8080/"
        },
        "id": "TLNH_De_FmgH",
        "outputId": "247a310e-a20c-4734-d2f8-345e3f0d3f67"
      },
      "execution_count": null,
      "outputs": [
        {
          "output_type": "stream",
          "name": "stdout",
          "text": [
            "La Exactitud de Entrenamiento es de 95.161 %\n",
            "El valor de Precision de Entrenamiento es de 0.9516129032258065\n",
            "El valor del Recall de Entrenamiento es de 0.9516129032258065\n",
            "El valor de F1-Score de Entrenamiento es de 0.9516129032258065\n",
            "El valor del AUC de Entrenamiento es de 0.9918907725908684\n"
          ]
        }
      ]
    },
    {
      "cell_type": "code",
      "source": [
        "# Conjunto de Prueba\n",
        "# Calculemos la exactitud a partir de los datos de salida y los reales\n",
        "test_accuracy = metrics.accuracy_score(y_test, y_pred_test)\n",
        "print(f'La Exactitud de Prueba es de {test_accuracy*100:0.3f} %')\n",
        "\n",
        "# Calculemos el resto de las metricas\n",
        "test_precision = metrics.precision_score(y_test, y_pred_test, average='micro')\n",
        "print(f'El valor de Precision de Prueba es de {test_precision}')\n",
        "\n",
        "# El recall\n",
        "test_recall = metrics.recall_score(y_test, y_pred_test, average='micro')\n",
        "print(f'El valor del Recall de Prueba es de {test_recall}')\n",
        "\n",
        "# f1-score\n",
        "test_f1 = metrics.f1_score(y_test, y_pred_test, average='micro')\n",
        "print(f'El valor de F1-Score de Prueba es de {test_f1}')\n",
        "\n",
        "# AUC\n",
        "test_auc = metrics.roc_auc_score(y_test, clasificadorRF.predict_proba(X_test_PCA), average='macro', multi_class='ovr')\n",
        "print(f'El valor del AUC de Prueba es de {test_auc}')"
      ],
      "metadata": {
        "colab": {
          "base_uri": "https://localhost:8080/"
        },
        "id": "_1wWyzOKFsLO",
        "outputId": "dc7fcb77-7148-47ac-df3b-0b45133232bc"
      },
      "execution_count": null,
      "outputs": [
        {
          "output_type": "stream",
          "name": "stdout",
          "text": [
            "La Exactitud de Prueba es de 96.296 %\n",
            "El valor de Precision de Prueba es de 0.9629629629629629\n",
            "El valor del Recall de Prueba es de 0.9629629629629629\n",
            "El valor de F1-Score de Prueba es de 0.9629629629629629\n",
            "El valor del AUC de Prueba es de 0.9897597911809298\n"
          ]
        }
      ]
    },
    {
      "cell_type": "markdown",
      "source": [
        "Como podemos ver, efectivamente obtenemos unos muy buenos resultados de clasificación cuando lo hacemos sobre el conjunto de datos convertidos a partir del PCA. Incluso, ya que los resultados con el conjunto de prueba dan ligeramente mejor que con el conjunto de entrenamiento, es posible que el modelo resultante esté sobreentrenado. En este sentido, es posible entonces ajustar tanto la cantidad de componentes principales seleccionada, como los parámetros del modelo de Bosque Aleatorio seleccionado.\n",
        "\n",
        "Sin embargo, lo relevante en el ejemplo es ver cómo, efectivamente, el conjunto de datos original de 13 variables independientes, fue reducido a otro conjunto de solo 3 variables, y que de igual forma presentó un excelente desempeño en la clasificación.\n",
        "\n",
        "Veamos ahora un ejemplo similar, pero realizando la reducción de dimensionalidad con una función Kernel:"
      ],
      "metadata": {
        "id": "D3N_JlPBF7h1"
      }
    },
    {
      "cell_type": "markdown",
      "source": [
        "## Kernel PCA.\n",
        "\n",
        "Implementemos el mismo ejemplo, pero haciendo uso de un kernel no lineal, y una menor cantidad de componentes principales, a fin de observar el efecto sobre la clasificación final:"
      ],
      "metadata": {
        "id": "YCfW5uWHGikv"
      }
    },
    {
      "cell_type": "code",
      "source": [
        "# Se defije el Kernel PCA con el numero de componentes y la funcion kernel a utilizar\n",
        "kernel_pca = KernelPCA(n_components = 2, kernel = 'rbf')"
      ],
      "metadata": {
        "id": "lUT1bAOPF1Kt"
      },
      "execution_count": null,
      "outputs": []
    },
    {
      "cell_type": "code",
      "source": [
        "# Se ajustan los datos para calcular las componentes\n",
        "ajustarKernelPCA = kernel_pca.fit(X_train_scaled)\n",
        "\n",
        "# Se transforman los datos\n",
        "X_train_KernelPCA = ajustarKernelPCA.transform(X_train_scaled)\n",
        "X_test_KernelPCA = ajustarKernelPCA.transform(X_test_scaled)"
      ],
      "metadata": {
        "id": "I5LozhSMG7Db"
      },
      "execution_count": null,
      "outputs": []
    },
    {
      "cell_type": "code",
      "source": [
        "# Veamos los primeros 10 registros del conjunto de datos de entrenamiento redimensionado\n",
        "X_train_KernelPCA[0:10]"
      ],
      "metadata": {
        "colab": {
          "base_uri": "https://localhost:8080/"
        },
        "id": "qjIjH2nrHM_s",
        "outputId": "a704be37-3d25-4f2a-e95b-1b21cb6fa97a"
      },
      "execution_count": null,
      "outputs": [
        {
          "output_type": "execute_result",
          "data": {
            "text/plain": [
              "array([[-0.49754598, -0.33978159],\n",
              "       [ 0.370529  ,  0.02325583],\n",
              "       [ 0.07230556,  0.4709231 ],\n",
              "       [ 0.22523174, -0.20657399],\n",
              "       [-0.27565852, -0.03388136],\n",
              "       [ 0.23425642,  0.31463882],\n",
              "       [-0.44988877, -0.25499684],\n",
              "       [-0.13740882,  0.32676032],\n",
              "       [-0.06823636,  0.56107111],\n",
              "       [ 0.51871241, -0.34975578]])"
            ]
          },
          "metadata": {},
          "execution_count": 17
        }
      ]
    },
    {
      "cell_type": "markdown",
      "source": [
        "En este caso, tenemos en efecto un nuevo dataset con 2 dimensiones solamente. Sin embargo, para el caso del Kernel PCA no existe la posibilidad de calcular la proporción de varianza, ya que al transformar a un espacio no lineal, no existe equivalencia en este modelo.\n",
        "\n",
        "Vamos a crear un nuevo clasificador para este nuevo conjunto bidimensional:"
      ],
      "metadata": {
        "id": "XKK04X1OHTv0"
      }
    },
    {
      "cell_type": "code",
      "source": [
        "# Definimos un modelo de arbol de decision\n",
        "clasificadorRF = RandomForestClassifier(n_estimators=2, max_depth=4, criterion='gini', random_state=2022)\n",
        "\n",
        "# Realizamos el fit del clasificador sobre los datos de entrenamiento PCA\n",
        "clasificadorRF.fit(X_train_KernelPCA, y_train)"
      ],
      "metadata": {
        "colab": {
          "base_uri": "https://localhost:8080/",
          "height": 74
        },
        "id": "7nEXBIfjHS99",
        "outputId": "c5339aaf-352a-4776-9345-b0abce499a12"
      },
      "execution_count": null,
      "outputs": [
        {
          "output_type": "execute_result",
          "data": {
            "text/plain": [
              "RandomForestClassifier(max_depth=4, n_estimators=2, random_state=2022)"
            ],
            "text/html": [
              "<style>#sk-container-id-2 {color: black;background-color: white;}#sk-container-id-2 pre{padding: 0;}#sk-container-id-2 div.sk-toggleable {background-color: white;}#sk-container-id-2 label.sk-toggleable__label {cursor: pointer;display: block;width: 100%;margin-bottom: 0;padding: 0.3em;box-sizing: border-box;text-align: center;}#sk-container-id-2 label.sk-toggleable__label-arrow:before {content: \"▸\";float: left;margin-right: 0.25em;color: #696969;}#sk-container-id-2 label.sk-toggleable__label-arrow:hover:before {color: black;}#sk-container-id-2 div.sk-estimator:hover label.sk-toggleable__label-arrow:before {color: black;}#sk-container-id-2 div.sk-toggleable__content {max-height: 0;max-width: 0;overflow: hidden;text-align: left;background-color: #f0f8ff;}#sk-container-id-2 div.sk-toggleable__content pre {margin: 0.2em;color: black;border-radius: 0.25em;background-color: #f0f8ff;}#sk-container-id-2 input.sk-toggleable__control:checked~div.sk-toggleable__content {max-height: 200px;max-width: 100%;overflow: auto;}#sk-container-id-2 input.sk-toggleable__control:checked~label.sk-toggleable__label-arrow:before {content: \"▾\";}#sk-container-id-2 div.sk-estimator input.sk-toggleable__control:checked~label.sk-toggleable__label {background-color: #d4ebff;}#sk-container-id-2 div.sk-label input.sk-toggleable__control:checked~label.sk-toggleable__label {background-color: #d4ebff;}#sk-container-id-2 input.sk-hidden--visually {border: 0;clip: rect(1px 1px 1px 1px);clip: rect(1px, 1px, 1px, 1px);height: 1px;margin: -1px;overflow: hidden;padding: 0;position: absolute;width: 1px;}#sk-container-id-2 div.sk-estimator {font-family: monospace;background-color: #f0f8ff;border: 1px dotted black;border-radius: 0.25em;box-sizing: border-box;margin-bottom: 0.5em;}#sk-container-id-2 div.sk-estimator:hover {background-color: #d4ebff;}#sk-container-id-2 div.sk-parallel-item::after {content: \"\";width: 100%;border-bottom: 1px solid gray;flex-grow: 1;}#sk-container-id-2 div.sk-label:hover label.sk-toggleable__label {background-color: #d4ebff;}#sk-container-id-2 div.sk-serial::before {content: \"\";position: absolute;border-left: 1px solid gray;box-sizing: border-box;top: 0;bottom: 0;left: 50%;z-index: 0;}#sk-container-id-2 div.sk-serial {display: flex;flex-direction: column;align-items: center;background-color: white;padding-right: 0.2em;padding-left: 0.2em;position: relative;}#sk-container-id-2 div.sk-item {position: relative;z-index: 1;}#sk-container-id-2 div.sk-parallel {display: flex;align-items: stretch;justify-content: center;background-color: white;position: relative;}#sk-container-id-2 div.sk-item::before, #sk-container-id-2 div.sk-parallel-item::before {content: \"\";position: absolute;border-left: 1px solid gray;box-sizing: border-box;top: 0;bottom: 0;left: 50%;z-index: -1;}#sk-container-id-2 div.sk-parallel-item {display: flex;flex-direction: column;z-index: 1;position: relative;background-color: white;}#sk-container-id-2 div.sk-parallel-item:first-child::after {align-self: flex-end;width: 50%;}#sk-container-id-2 div.sk-parallel-item:last-child::after {align-self: flex-start;width: 50%;}#sk-container-id-2 div.sk-parallel-item:only-child::after {width: 0;}#sk-container-id-2 div.sk-dashed-wrapped {border: 1px dashed gray;margin: 0 0.4em 0.5em 0.4em;box-sizing: border-box;padding-bottom: 0.4em;background-color: white;}#sk-container-id-2 div.sk-label label {font-family: monospace;font-weight: bold;display: inline-block;line-height: 1.2em;}#sk-container-id-2 div.sk-label-container {text-align: center;}#sk-container-id-2 div.sk-container {/* jupyter's `normalize.less` sets `[hidden] { display: none; }` but bootstrap.min.css set `[hidden] { display: none !important; }` so we also need the `!important` here to be able to override the default hidden behavior on the sphinx rendered scikit-learn.org. See: https://github.com/scikit-learn/scikit-learn/issues/21755 */display: inline-block !important;position: relative;}#sk-container-id-2 div.sk-text-repr-fallback {display: none;}</style><div id=\"sk-container-id-2\" class=\"sk-top-container\"><div class=\"sk-text-repr-fallback\"><pre>RandomForestClassifier(max_depth=4, n_estimators=2, random_state=2022)</pre><b>In a Jupyter environment, please rerun this cell to show the HTML representation or trust the notebook. <br />On GitHub, the HTML representation is unable to render, please try loading this page with nbviewer.org.</b></div><div class=\"sk-container\" hidden><div class=\"sk-item\"><div class=\"sk-estimator sk-toggleable\"><input class=\"sk-toggleable__control sk-hidden--visually\" id=\"sk-estimator-id-2\" type=\"checkbox\" checked><label for=\"sk-estimator-id-2\" class=\"sk-toggleable__label sk-toggleable__label-arrow\">RandomForestClassifier</label><div class=\"sk-toggleable__content\"><pre>RandomForestClassifier(max_depth=4, n_estimators=2, random_state=2022)</pre></div></div></div></div></div>"
            ]
          },
          "metadata": {},
          "execution_count": 18
        }
      ]
    },
    {
      "cell_type": "code",
      "source": [
        "# Prediccion con el conjunto de entrenamiento\n",
        "y_pred_train = clasificadorRF.predict(X_train_KernelPCA)"
      ],
      "metadata": {
        "id": "4DWKu7HjHaac"
      },
      "execution_count": null,
      "outputs": []
    },
    {
      "cell_type": "code",
      "source": [
        "# Prediccion con el conjunto de prueba\n",
        "y_pred_test = clasificadorRF.predict(X_test_KernelPCA)"
      ],
      "metadata": {
        "id": "Puaumbn8IFlb"
      },
      "execution_count": null,
      "outputs": []
    },
    {
      "cell_type": "code",
      "source": [
        "# Matriz de confusion de entrenamiento\n",
        "matriz_confusion_train = metrics.confusion_matrix(y_train, y_pred_train)\n",
        "\n",
        "# Definimos los labels para la grafica de la matriz de confusion\n",
        "labels = list(clasificadorRF.classes_)\n",
        "\n",
        "fig = plt.figure(figsize=(5, 4))\n",
        "ax = fig.add_subplot(111)\n",
        "cax = ax.matshow(matriz_confusion_train)\n",
        "plt.title('Matriz de Confusion - Conjunto de Entrenamiento')\n",
        "fig.colorbar(cax)\n",
        "ax.set_xticklabels([''] + labels)\n",
        "ax.set_yticklabels([''] + labels)\n",
        "plt.xlabel('Predicho')\n",
        "plt.ylabel('Verdadero')\n",
        "for (i, j), z in np.ndenumerate(matriz_confusion_train):\n",
        "    ax.text(j, i, z, ha='center', va='center', color='white', size=22)\n",
        "plt.show()"
      ],
      "metadata": {
        "colab": {
          "base_uri": "https://localhost:8080/",
          "height": 389
        },
        "id": "vaGZ4_UQIIlQ",
        "outputId": "6d9356cd-d239-48a3-e941-7559d56d0b05"
      },
      "execution_count": null,
      "outputs": [
        {
          "output_type": "stream",
          "name": "stderr",
          "text": [
            "<ipython-input-21-252fdb3de278>:12: UserWarning: FixedFormatter should only be used together with FixedLocator\n",
            "  ax.set_xticklabels([''] + labels)\n",
            "<ipython-input-21-252fdb3de278>:13: UserWarning: FixedFormatter should only be used together with FixedLocator\n",
            "  ax.set_yticklabels([''] + labels)\n"
          ]
        },
        {
          "output_type": "display_data",
          "data": {
            "text/plain": [
              "<Figure size 360x288 with 2 Axes>"
            ],
            "image/png": "[encoded data removed]"
          },
          "metadata": {
            "needs_background": "light"
          }
        }
      ]
    },
    {
      "cell_type": "code",
      "source": [
        "# Matriz de confusion de Prueba\n",
        "matriz_confusion_test = metrics.confusion_matrix(y_test, y_pred_test)\n",
        "\n",
        "# Definimos los labels para la grafica de la matriz de confusion\n",
        "labels = list(clasificadorRF.classes_)\n",
        "\n",
        "fig = plt.figure(figsize=(5, 4))\n",
        "ax = fig.add_subplot(111)\n",
        "cax = ax.matshow(matriz_confusion_test)\n",
        "plt.title('Matriz de Confusion - Conjunto de Prueba')\n",
        "fig.colorbar(cax)\n",
        "ax.set_xticklabels([''] + labels)\n",
        "ax.set_yticklabels([''] + labels)\n",
        "plt.xlabel('Predicho')\n",
        "plt.ylabel('Verdadero')\n",
        "for (i, j), z in np.ndenumerate(matriz_confusion_test):\n",
        "    ax.text(j, i, z, ha='center', va='center', color='white', size=22)\n",
        "plt.show()"
      ],
      "metadata": {
        "colab": {
          "base_uri": "https://localhost:8080/",
          "height": 389
        },
        "id": "2lywYeaXIMUX",
        "outputId": "13417431-26da-4849-f7a3-665b0bf58526"
      },
      "execution_count": null,
      "outputs": [
        {
          "output_type": "stream",
          "name": "stderr",
          "text": [
            "<ipython-input-22-5e09ae1e4f8e>:12: UserWarning: FixedFormatter should only be used together with FixedLocator\n",
            "  ax.set_xticklabels([''] + labels)\n",
            "<ipython-input-22-5e09ae1e4f8e>:13: UserWarning: FixedFormatter should only be used together with FixedLocator\n",
            "  ax.set_yticklabels([''] + labels)\n"
          ]
        },
        {
          "output_type": "display_data",
          "data": {
            "text/plain": [
              "<Figure size 360x288 with 2 Axes>"
            ],
            "image/png": "[encoded data removed]"
          },
          "metadata": {
            "needs_background": "light"
          }
        }
      ]
    },
    {
      "cell_type": "code",
      "source": [
        "# Conjunto de Entrenamiento\n",
        "# Calculemos la exactitud a partir de los datos de salida y los reales\n",
        "train_accuracy = metrics.accuracy_score(y_train, y_pred_train)\n",
        "print(f'La Exactitud de Entrenamiento es de {train_accuracy*100:0.3f} %')\n",
        "\n",
        "# Calculemos el resto de las metricas\n",
        "train_precision = metrics.precision_score(y_train, y_pred_train, average='micro')\n",
        "print(f'El valor de Precision de Entrenamiento es de {train_precision}')\n",
        "\n",
        "# El recall\n",
        "train_recall = metrics.recall_score(y_train, y_pred_train, average='micro')\n",
        "print(f'El valor del Recall de Entrenamiento es de {train_recall}')\n",
        "\n",
        "# f1-score\n",
        "train_f1 = metrics.f1_score(y_train, y_pred_train, average='micro')\n",
        "print(f'El valor de F1-Score de Entrenamiento es de {train_f1}')\n",
        "\n",
        "# AUC\n",
        "train_auc = metrics.roc_auc_score(y_train, clasificadorRF.predict_proba(X_train_KernelPCA), average='macro', multi_class='ovr')\n",
        "print(f'El valor del AUC de Entrenamiento es de {train_auc}')"
      ],
      "metadata": {
        "colab": {
          "base_uri": "https://localhost:8080/"
        },
        "id": "UPuGjU4iIXSg",
        "outputId": "aef206e1-9479-4f92-cc58-8d952bab704a"
      },
      "execution_count": null,
      "outputs": [
        {
          "output_type": "stream",
          "name": "stdout",
          "text": [
            "La Exactitud de Entrenamiento es de 96.774 %\n",
            "El valor de Precision de Entrenamiento es de 0.967741935483871\n",
            "El valor del Recall de Entrenamiento es de 0.967741935483871\n",
            "El valor de F1-Score de Entrenamiento es de 0.967741935483871\n",
            "El valor del AUC de Entrenamiento es de 0.9910832809653461\n"
          ]
        }
      ]
    },
    {
      "cell_type": "code",
      "source": [
        "# Conjunto de Prueba\n",
        "# Calculemos la exactitud a partir de los datos de salida y los reales\n",
        "test_accuracy = metrics.accuracy_score(y_test, y_pred_test)\n",
        "print(f'La Exactitud de Prueba es de {test_accuracy*100:0.3f} %')\n",
        "\n",
        "# Calculemos el resto de las metricas\n",
        "test_precision = metrics.precision_score(y_test, y_pred_test, average='micro')\n",
        "print(f'El valor de Precision de Prueba es de {test_precision}')\n",
        "\n",
        "# El recall\n",
        "test_recall = metrics.recall_score(y_test, y_pred_test, average='micro')\n",
        "print(f'El valor del Recall de Prueba es de {test_recall}')\n",
        "\n",
        "# f1-score\n",
        "test_f1 = metrics.f1_score(y_test, y_pred_test, average='micro')\n",
        "print(f'El valor de F1-Score de Prueba es de {test_f1}')\n",
        "\n",
        "# AUC\n",
        "test_auc = metrics.roc_auc_score(y_test, clasificadorRF.predict_proba(X_test_KernelPCA), average='macro', multi_class='ovr')\n",
        "print(f'El valor del AUC de Prueba es de {test_auc}')"
      ],
      "metadata": {
        "colab": {
          "base_uri": "https://localhost:8080/"
        },
        "id": "N1jNHSxoIbs0",
        "outputId": "edfa797c-75bc-426a-e69c-a178899aa906"
      },
      "execution_count": null,
      "outputs": [
        {
          "output_type": "stream",
          "name": "stdout",
          "text": [
            "La Exactitud de Prueba es de 88.889 %\n",
            "El valor de Precision de Prueba es de 0.8888888888888888\n",
            "El valor del Recall de Prueba es de 0.8888888888888888\n",
            "El valor de F1-Score de Prueba es de 0.8888888888888888\n",
            "El valor del AUC de Prueba es de 0.985260832728153\n"
          ]
        }
      ]
    },
    {
      "cell_type": "markdown",
      "source": [
        "En este caso vemos como el desempeño de la clasificación también es muy bueno, e incluso las matrices de confusión tienen menor cantidad de valores fuera de la diagonal. También tenemos un desempeño superior del conjunto de prueba sobre el conjunto de entrenamiento, lo que indicaría sobreentrenamiento. Sin embargo, se observa que con un kernel no lineal y menos variables (2 componentes principales) se obtienen resultados de clasificación tan buenos como al usar todas las variables originales.\n",
        "\n",
        "En este sentido, se observa el cómo, en efecto, el Análisis de Componentes Principales resulta un método de reducción de la dimensionalidad que puede ofrecer resultados generales para modelos de machine learning que pueden ayudar a reducir la velocidad, requerimiento de cómputo y complejidad de los mismos, ya que no es necesario trabajar con todas las variables, sino con aquellas que, en el espacio de transformación del PCA, mayor varianza se tiene."
      ],
      "metadata": {
        "id": "rR8TmFu1Iic7"
      }
    },
    {
      "cell_type": "markdown",
      "source": [
        "## Ejercicio\n",
        "\n",
        "Haciendo uso del **Boston Housing Dataset**:"
      ],
      "metadata": {
        "id": "yYwjbyJ2JOGP"
      }
    },
    {
      "cell_type": "code",
      "source": [
        "# Descarguemos el dataset\n",
        "dataset = pd.read_csv('https://raw.githubusercontent.com/selva86/datasets/master/BostonHousing.csv')\n",
        "dataset"
      ],
      "metadata": {
        "id": "S19ZESuXJ746",
        "colab": {
          "base_uri": "https://localhost:8080/",
          "height": 488
        },
        "outputId": "4073953b-c4ea-4332-ba33-599a0c3617af"
      },
      "execution_count": null,
      "outputs": [
        {
          "output_type": "execute_result",
          "data": {
            "text/plain": [
              "        crim    zn  indus  chas    nox     rm   age     dis  rad  tax  \\\n",
              "0    0.00632  18.0   2.31     0  0.538  6.575  65.2  4.0900    1  296   \n",
              "1    0.02731   0.0   7.07     0  0.469  6.421  78.9  4.9671    2  242   \n",
              "2    0.02729   0.0   7.07     0  0.469  7.185  61.1  4.9671    2  242   \n",
              "3    0.03237   0.0   2.18     0  0.458  6.998  45.8  6.0622    3  222   \n",
              "4    0.06905   0.0   2.18     0  0.458  7.147  54.2  6.0622    3  222   \n",
              "..       ...   ...    ...   ...    ...    ...   ...     ...  ...  ...   \n",
              "501  0.06263   0.0  11.93     0  0.573  6.593  69.1  2.4786    1  273   \n",
              "502  0.04527   0.0  11.93     0  0.573  6.120  76.7  2.2875    1  273   \n",
              "503  0.06076   0.0  11.93     0  0.573  6.976  91.0  2.1675    1  273   \n",
              "504  0.10959   0.0  11.93     0  0.573  6.794  89.3  2.3889    1  273   \n",
              "505  0.04741   0.0  11.93     0  0.573  6.030  80.8  2.5050    1  273   \n",
              "\n",
              "     ptratio       b  lstat  medv  \n",
              "0       15.3  396.90   4.98  24.0  \n",
              "1       17.8  396.90   9.14  21.6  \n",
              "2       17.8  392.83   4.03  34.7  \n",
              "3       18.7  394.63   2.94  33.4  \n",
              "4       18.7  396.90   5.33  36.2  \n",
              "..       ...     ...    ...   ...  \n",
              "501     21.0  391.99   9.67  22.4  \n",
              "502     21.0  396.90   9.08  20.6  \n",
              "503     21.0  396.90   5.64  23.9  \n",
              "504     21.0  393.45   6.48  22.0  \n",
              "505     21.0  396.90   7.88  11.9  \n",
              "\n",
              "[506 rows x 14 columns]"
            ],
            "text/html": [
              "\n",
              "  <div id=\"df-f8d4f8d3-b7b6-4e1c-8527-cf1e3cffdefc\">\n",
              "    <div class=\"colab-df-container\">\n",
              "      <div>\n",
              "<style scoped>\n",
              "    .dataframe tbody tr th:only-of-type {\n",
              "        vertical-align: middle;\n",
              "    }\n",
              "\n",
              "    .dataframe tbody tr th {\n",
              "        vertical-align: top;\n",
              "    }\n",
              "\n",
              "    .dataframe thead th {\n",
              "        text-align: right;\n",
              "    }\n",
              "</style>\n",
              "<table border=\"1\" class=\"dataframe\">\n",
              "  <thead>\n",
              "    <tr style=\"text-align: right;\">\n",
              "      <th></th>\n",
              "      <th>crim</th>\n",
              "      <th>zn</th>\n",
              "      <th>indus</th>\n",
              "      <th>chas</th>\n",
              "      <th>nox</th>\n",
              "      <th>rm</th>\n",
              "      <th>age</th>\n",
              "      <th>dis</th>\n",
              "      <th>rad</th>\n",
              "      <th>tax</th>\n",
              "      <th>ptratio</th>\n",
              "      <th>b</th>\n",
              "      <th>lstat</th>\n",
              "      <th>medv</th>\n",
              "    </tr>\n",
              "  </thead>\n",
              "  <tbody>\n",
              "    <tr>\n",
              "      <th>0</th>\n",
              "      <td>0.00632</td>\n",
              "      <td>18.0</td>\n",
              "      <td>2.31</td>\n",
              "      <td>0</td>\n",
              "      <td>0.538</td>\n",
              "      <td>6.575</td>\n",
              "      <td>65.2</td>\n",
              "      <td>4.0900</td>\n",
              "      <td>1</td>\n",
              "      <td>296</td>\n",
              "      <td>15.3</td>\n",
              "      <td>396.90</td>\n",
              "      <td>4.98</td>\n",
              "      <td>24.0</td>\n",
              "    </tr>\n",
              "    <tr>\n",
              "      <th>1</th>\n",
              "      <td>0.02731</td>\n",
              "      <td>0.0</td>\n",
              "      <td>7.07</td>\n",
              "      <td>0</td>\n",
              "      <td>0.469</td>\n",
              "      <td>6.421</td>\n",
              "      <td>78.9</td>\n",
              "      <td>4.9671</td>\n",
              "      <td>2</td>\n",
              "      <td>242</td>\n",
              "      <td>17.8</td>\n",
              "      <td>396.90</td>\n",
              "      <td>9.14</td>\n",
              "      <td>21.6</td>\n",
              "    </tr>\n",
              "    <tr>\n",
              "      <th>2</th>\n",
              "      <td>0.02729</td>\n",
              "      <td>0.0</td>\n",
              "      <td>7.07</td>\n",
              "      <td>0</td>\n",
              "      <td>0.469</td>\n",
              "      <td>7.185</td>\n",
              "      <td>61.1</td>\n",
              "      <td>4.9671</td>\n",
              "      <td>2</td>\n",
              "      <td>242</td>\n",
              "      <td>17.8</td>\n",
              "      <td>392.83</td>\n",
              "      <td>4.03</td>\n",
              "      <td>34.7</td>\n",
              "    </tr>\n",
              "    <tr>\n",
              "      <th>3</th>\n",
              "      <td>0.03237</td>\n",
              "      <td>0.0</td>\n",
              "      <td>2.18</td>\n",
              "      <td>0</td>\n",
              "      <td>0.458</td>\n",
              "      <td>6.998</td>\n",
              "      <td>45.8</td>\n",
              "      <td>6.0622</td>\n",
              "      <td>3</td>\n",
              "      <td>222</td>\n",
              "      <td>18.7</td>\n",
              "      <td>394.63</td>\n",
              "      <td>2.94</td>\n",
              "      <td>33.4</td>\n",
              "    </tr>\n",
              "    <tr>\n",
              "      <th>4</th>\n",
              "      <td>0.06905</td>\n",
              "      <td>0.0</td>\n",
              "      <td>2.18</td>\n",
              "      <td>0</td>\n",
              "      <td>0.458</td>\n",
              "      <td>7.147</td>\n",
              "      <td>54.2</td>\n",
              "      <td>6.0622</td>\n",
              "      <td>3</td>\n",
              "      <td>222</td>\n",
              "      <td>18.7</td>\n",
              "      <td>396.90</td>\n",
              "      <td>5.33</td>\n",
              "      <td>36.2</td>\n",
              "    </tr>\n",
              "    <tr>\n",
              "      <th>...</th>\n",
              "      <td>...</td>\n",
              "      <td>...</td>\n",
              "      <td>...</td>\n",
              "      <td>...</td>\n",
              "      <td>...</td>\n",
              "      <td>...</td>\n",
              "      <td>...</td>\n",
              "      <td>...</td>\n",
              "      <td>...</td>\n",
              "      <td>...</td>\n",
              "      <td>...</td>\n",
              "      <td>...</td>\n",
              "      <td>...</td>\n",
              "      <td>...</td>\n",
              "    </tr>\n",
              "    <tr>\n",
              "      <th>501</th>\n",
              "      <td>0.06263</td>\n",
              "      <td>0.0</td>\n",
              "      <td>11.93</td>\n",
              "      <td>0</td>\n",
              "      <td>0.573</td>\n",
              "      <td>6.593</td>\n",
              "      <td>69.1</td>\n",
              "      <td>2.4786</td>\n",
              "      <td>1</td>\n",
              "      <td>273</td>\n",
              "      <td>21.0</td>\n",
              "      <td>391.99</td>\n",
              "      <td>9.67</td>\n",
              "      <td>22.4</td>\n",
              "    </tr>\n",
              "    <tr>\n",
              "      <th>502</th>\n",
              "      <td>0.04527</td>\n",
              "      <td>0.0</td>\n",
              "      <td>11.93</td>\n",
              "      <td>0</td>\n",
              "      <td>0.573</td>\n",
              "      <td>6.120</td>\n",
              "      <td>76.7</td>\n",
              "      <td>2.2875</td>\n",
              "      <td>1</td>\n",
              "      <td>273</td>\n",
              "      <td>21.0</td>\n",
              "      <td>396.90</td>\n",
              "      <td>9.08</td>\n",
              "      <td>20.6</td>\n",
              "    </tr>\n",
              "    <tr>\n",
              "      <th>503</th>\n",
              "      <td>0.06076</td>\n",
              "      <td>0.0</td>\n",
              "      <td>11.93</td>\n",
              "      <td>0</td>\n",
              "      <td>0.573</td>\n",
              "      <td>6.976</td>\n",
              "      <td>91.0</td>\n",
              "      <td>2.1675</td>\n",
              "      <td>1</td>\n",
              "      <td>273</td>\n",
              "      <td>21.0</td>\n",
              "      <td>396.90</td>\n",
              "      <td>5.64</td>\n",
              "      <td>23.9</td>\n",
              "    </tr>\n",
              "    <tr>\n",
              "      <th>504</th>\n",
              "      <td>0.10959</td>\n",
              "      <td>0.0</td>\n",
              "      <td>11.93</td>\n",
              "      <td>0</td>\n",
              "      <td>0.573</td>\n",
              "      <td>6.794</td>\n",
              "      <td>89.3</td>\n",
              "      <td>2.3889</td>\n",
              "      <td>1</td>\n",
              "      <td>273</td>\n",
              "      <td>21.0</td>\n",
              "      <td>393.45</td>\n",
              "      <td>6.48</td>\n",
              "      <td>22.0</td>\n",
              "    </tr>\n",
              "    <tr>\n",
              "      <th>505</th>\n",
              "      <td>0.04741</td>\n",
              "      <td>0.0</td>\n",
              "      <td>11.93</td>\n",
              "      <td>0</td>\n",
              "      <td>0.573</td>\n",
              "      <td>6.030</td>\n",
              "      <td>80.8</td>\n",
              "      <td>2.5050</td>\n",
              "      <td>1</td>\n",
              "      <td>273</td>\n",
              "      <td>21.0</td>\n",
              "      <td>396.90</td>\n",
              "      <td>7.88</td>\n",
              "      <td>11.9</td>\n",
              "    </tr>\n",
              "  </tbody>\n",
              "</table>\n",
              "<p>506 rows × 14 columns</p>\n",
              "</div>\n",
              "      <button class=\"colab-df-convert\" onclick=\"convertToInteractive('df-f8d4f8d3-b7b6-4e1c-8527-cf1e3cffdefc')\"\n",
              "              title=\"Convert this dataframe to an interactive table.\"\n",
              "              style=\"display:none;\">\n",
              "        \n",
              "  <svg xmlns=\"http://www.w3.org/2000/svg\" height=\"24px\"viewBox=\"0 0 24 24\"\n",
              "       width=\"24px\">\n",
              "    <path d=\"M0 0h24v24H0V0z\" fill=\"none\"/>\n",
              "    <path d=\"M18.56 5.44l.94 2.06.94-2.06 2.06-.94-2.06-.94-.94-2.06-.94 2.06-2.06.94zm-11 1L8.5 8.5l.94-2.06 2.06-.94-2.06-.94L8.5 2.5l-.94 2.06-2.06.94zm10 10l.94 2.06.94-2.06 2.06-.94-2.06-.94-.94-2.06-.94 2.06-2.06.94z\"/><path d=\"M17.41 7.96l-1.37-1.37c-.4-.4-.92-.59-1.43-.59-.52 0-1.04.2-1.43.59L10.3 9.45l-7.72 7.72c-.78.78-.78 2.05 0 2.83L4 21.41c.39.39.9.59 1.41.59.51 0 1.02-.2 1.41-.59l7.78-7.78 2.81-2.81c.8-.78.8-2.07 0-2.86zM5.41 20L4 18.59l7.72-7.72 1.47 1.35L5.41 20z\"/>\n",
              "  </svg>\n",
              "      </button>\n",
              "      \n",
              "  <style>\n",
              "    .colab-df-container {\n",
              "      display:flex;\n",
              "      flex-wrap:wrap;\n",
              "      gap: 12px;\n",
              "    }\n",
              "\n",
              "    .colab-df-convert {\n",
              "      background-color: #E8F0FE;\n",
              "      border: none;\n",
              "      border-radius: 50%;\n",
              "      cursor: pointer;\n",
              "      display: none;\n",
              "      fill: #1967D2;\n",
              "      height: 32px;\n",
              "      padding: 0 0 0 0;\n",
              "      width: 32px;\n",
              "    }\n",
              "\n",
              "    .colab-df-convert:hover {\n",
              "      background-color: #E2EBFA;\n",
              "      box-shadow: 0px 1px 2px rgba(60, 64, 67, 0.3), 0px 1px 3px 1px rgba(60, 64, 67, 0.15);\n",
              "      fill: #174EA6;\n",
              "    }\n",
              "\n",
              "    [theme=dark] .colab-df-convert {\n",
              "      background-color: #3B4455;\n",
              "      fill: #D2E3FC;\n",
              "    }\n",
              "\n",
              "    [theme=dark] .colab-df-convert:hover {\n",
              "      background-color: #434B5C;\n",
              "      box-shadow: 0px 1px 3px 1px rgba(0, 0, 0, 0.15);\n",
              "      filter: drop-shadow(0px 1px 2px rgba(0, 0, 0, 0.3));\n",
              "      fill: #FFFFFF;\n",
              "    }\n",
              "  </style>\n",
              "\n",
              "      <script>\n",
              "        const buttonEl =\n",
              "          document.querySelector('#df-f8d4f8d3-b7b6-4e1c-8527-cf1e3cffdefc button.colab-df-convert');\n",
              "        buttonEl.style.display =\n",
              "          google.colab.kernel.accessAllowed ? 'block' : 'none';\n",
              "\n",
              "        async function convertToInteractive(key) {\n",
              "          const element = document.querySelector('#df-f8d4f8d3-b7b6-4e1c-8527-cf1e3cffdefc');\n",
              "          const dataTable =\n",
              "            await google.colab.kernel.invokeFunction('convertToInteractive',\n",
              "                                                     [key], {});\n",
              "          if (!dataTable) return;\n",
              "\n",
              "          const docLinkHtml = 'Like what you see? Visit the ' +\n",
              "            '<a target=\"_blank\" href=https://colab.research.google.com/notebooks/data_table.ipynb>data table notebook</a>'\n",
              "            + ' to learn more about interactive tables.';\n",
              "          element.innerHTML = '';\n",
              "          dataTable['output_type'] = 'display_data';\n",
              "          await google.colab.output.renderOutput(dataTable, element);\n",
              "          const docLink = document.createElement('div');\n",
              "          docLink.innerHTML = docLinkHtml;\n",
              "          element.appendChild(docLink);\n",
              "        }\n",
              "      </script>\n",
              "    </div>\n",
              "  </div>\n",
              "  "
            ]
          },
          "metadata": {},
          "execution_count": 25
        }
      ]
    },
    {
      "cell_type": "markdown",
      "source": [
        "- Aplique la técnica de Análisis de Componentes Principales a fin de reducir la dimensionalidad del conjunto de datos, y construir luego un modelo de Regresión para predecir el valor medio de las edificaciones (variable medv).\n",
        "- Estudie el cómo afecta el resultado de regresión la selección de la cantidad de componentes principales calculadas. Es decir, construya un PCA con 2,3,4,5 componentes, por ejemplo, y cuantifique la variación del RMSE para cada modelo de regresión final obtenido. ¿Qué puede decir sobre el efecto de la cantidad de Componentes Principales sobre el desempeño del modelo de regresión seleccionado?"
      ],
      "metadata": {
        "id": "j7D-tBmzKDfa"
      }
    }
  ]
}